{
 "cells": [
  {
   "cell_type": "markdown",
   "metadata": {},
   "source": [
    "# 1. Importation des librairies python"
   ]
  },
  {
   "cell_type": "code",
   "execution_count": 49,
   "metadata": {},
   "outputs": [],
   "source": [
    "import pandas as pd\n",
    "from sqlalchemy import create_engine\n",
    "import numpy as np\n",
    "import matplotlib.pyplot as plt"
   ]
  },
  {
   "cell_type": "markdown",
   "metadata": {},
   "source": [
    "# 2. Importation des données"
   ]
  },
  {
   "cell_type": "code",
   "execution_count": 50,
   "metadata": {},
   "outputs": [],
   "source": [
    "engine = create_engine('sqlite:///data.db', echo=False)\n",
    "con = engine.connect()\n",
    "df_patient = pd.read_sql('select * from patient', con=con)\n",
    "df_pcr = pd.read_sql('select * from test', con=con)\n",
    "con.close()"
   ]
  },
  {
   "cell_type": "code",
   "execution_count": 51,
   "metadata": {},
   "outputs": [
    {
     "data": {
      "text/html": [
       "<div>\n",
       "<style scoped>\n",
       "    .dataframe tbody tr th:only-of-type {\n",
       "        vertical-align: middle;\n",
       "    }\n",
       "\n",
       "    .dataframe tbody tr th {\n",
       "        vertical-align: top;\n",
       "    }\n",
       "\n",
       "    .dataframe thead th {\n",
       "        text-align: right;\n",
       "    }\n",
       "</style>\n",
       "<table border=\"1\" class=\"dataframe\">\n",
       "  <thead>\n",
       "    <tr style=\"text-align: right;\">\n",
       "      <th></th>\n",
       "      <th>patient_id</th>\n",
       "      <th>given_name</th>\n",
       "      <th>surname</th>\n",
       "      <th>street_number</th>\n",
       "      <th>address_1</th>\n",
       "      <th>suburb</th>\n",
       "      <th>postcode</th>\n",
       "      <th>state</th>\n",
       "      <th>date_of_birth</th>\n",
       "      <th>age</th>\n",
       "      <th>phone_number</th>\n",
       "      <th>address_2</th>\n",
       "    </tr>\n",
       "  </thead>\n",
       "  <tbody>\n",
       "    <tr>\n",
       "      <th>0</th>\n",
       "      <td>221958</td>\n",
       "      <td>matisse</td>\n",
       "      <td>clarke</td>\n",
       "      <td>13.0</td>\n",
       "      <td>rene street</td>\n",
       "      <td>ellenbrook</td>\n",
       "      <td>2527</td>\n",
       "      <td>wa</td>\n",
       "      <td>19710708.0</td>\n",
       "      <td>32.0</td>\n",
       "      <td>08 86018809</td>\n",
       "      <td>westella</td>\n",
       "    </tr>\n",
       "    <tr>\n",
       "      <th>1</th>\n",
       "      <td>771155</td>\n",
       "      <td>joshua</td>\n",
       "      <td>elrick</td>\n",
       "      <td>23.0</td>\n",
       "      <td>andrea place</td>\n",
       "      <td>east preston</td>\n",
       "      <td>2074</td>\n",
       "      <td>nsw</td>\n",
       "      <td>19120921.0</td>\n",
       "      <td>34.0</td>\n",
       "      <td>02 97793152</td>\n",
       "      <td>foxdown</td>\n",
       "    </tr>\n",
       "    <tr>\n",
       "      <th>2</th>\n",
       "      <td>231932</td>\n",
       "      <td>alice</td>\n",
       "      <td>conboy</td>\n",
       "      <td>35.0</td>\n",
       "      <td>mountain circuit</td>\n",
       "      <td>prospect</td>\n",
       "      <td>2305</td>\n",
       "      <td>nsw</td>\n",
       "      <td>19810905.0</td>\n",
       "      <td>22.0</td>\n",
       "      <td>02 20403934</td>\n",
       "      <td>None</td>\n",
       "    </tr>\n",
       "    <tr>\n",
       "      <th>3</th>\n",
       "      <td>465838</td>\n",
       "      <td>sienna</td>\n",
       "      <td>craswell</td>\n",
       "      <td>39.0</td>\n",
       "      <td>cumberlegeicrescent</td>\n",
       "      <td>henty</td>\n",
       "      <td>3620</td>\n",
       "      <td>wa</td>\n",
       "      <td>19840809.0</td>\n",
       "      <td>30.0</td>\n",
       "      <td>02 62832318</td>\n",
       "      <td>jodane</td>\n",
       "    </tr>\n",
       "    <tr>\n",
       "      <th>4</th>\n",
       "      <td>359178</td>\n",
       "      <td>joshua</td>\n",
       "      <td>bastiaans</td>\n",
       "      <td>144.0</td>\n",
       "      <td>lowrie street</td>\n",
       "      <td>campbell town</td>\n",
       "      <td>4051</td>\n",
       "      <td>nsw</td>\n",
       "      <td>19340430.0</td>\n",
       "      <td>31.0</td>\n",
       "      <td>03 69359594</td>\n",
       "      <td>None</td>\n",
       "    </tr>\n",
       "    <tr>\n",
       "      <th>5</th>\n",
       "      <td>744167</td>\n",
       "      <td>ky</td>\n",
       "      <td>laing</td>\n",
       "      <td>448.0</td>\n",
       "      <td>nyawi place</td>\n",
       "      <td>barmera</td>\n",
       "      <td>3556</td>\n",
       "      <td>qld</td>\n",
       "      <td>19050919.0</td>\n",
       "      <td>32.0</td>\n",
       "      <td>03 59872070</td>\n",
       "      <td>None</td>\n",
       "    </tr>\n",
       "    <tr>\n",
       "      <th>6</th>\n",
       "      <td>210268</td>\n",
       "      <td>matthew</td>\n",
       "      <td>laing</td>\n",
       "      <td>11.0</td>\n",
       "      <td>barnes place</td>\n",
       "      <td>laurieton</td>\n",
       "      <td>2160</td>\n",
       "      <td>nsw</td>\n",
       "      <td>19061018.0</td>\n",
       "      <td>29.0</td>\n",
       "      <td>02 86925029</td>\n",
       "      <td>None</td>\n",
       "    </tr>\n",
       "    <tr>\n",
       "      <th>7</th>\n",
       "      <td>832180</td>\n",
       "      <td>jack</td>\n",
       "      <td>renfrey</td>\n",
       "      <td>27.0</td>\n",
       "      <td>osmand street</td>\n",
       "      <td>maribyrnong</td>\n",
       "      <td>2170</td>\n",
       "      <td>qld</td>\n",
       "      <td>19610518.0</td>\n",
       "      <td>31.0</td>\n",
       "      <td>03 15575583</td>\n",
       "      <td>dhurringill</td>\n",
       "    </tr>\n",
       "    <tr>\n",
       "      <th>8</th>\n",
       "      <td>154886</td>\n",
       "      <td>adele</td>\n",
       "      <td>ryan</td>\n",
       "      <td>76.0</td>\n",
       "      <td>house circuit</td>\n",
       "      <td>new farm</td>\n",
       "      <td>2200</td>\n",
       "      <td>qld</td>\n",
       "      <td>19430102.0</td>\n",
       "      <td>33.0</td>\n",
       "      <td>07 37444521</td>\n",
       "      <td>None</td>\n",
       "    </tr>\n",
       "    <tr>\n",
       "      <th>9</th>\n",
       "      <td>237337</td>\n",
       "      <td>breeanne</td>\n",
       "      <td>wynne</td>\n",
       "      <td>12.0</td>\n",
       "      <td>cowper street</td>\n",
       "      <td>bonnet bay</td>\n",
       "      <td>2062</td>\n",
       "      <td>qld</td>\n",
       "      <td>19030606.0</td>\n",
       "      <td>35.0</td>\n",
       "      <td>08 24888117</td>\n",
       "      <td>None</td>\n",
       "    </tr>\n",
       "  </tbody>\n",
       "</table>\n",
       "</div>"
      ],
      "text/plain": [
       "   patient_id given_name    surname  street_number            address_1  \\\n",
       "0      221958    matisse     clarke           13.0          rene street   \n",
       "1      771155     joshua     elrick           23.0         andrea place   \n",
       "2      231932      alice     conboy           35.0     mountain circuit   \n",
       "3      465838     sienna   craswell           39.0  cumberlegeicrescent   \n",
       "4      359178     joshua  bastiaans          144.0        lowrie street   \n",
       "5      744167         ky      laing          448.0          nyawi place   \n",
       "6      210268    matthew      laing           11.0         barnes place   \n",
       "7      832180       jack    renfrey           27.0        osmand street   \n",
       "8      154886      adele       ryan           76.0        house circuit   \n",
       "9      237337   breeanne      wynne           12.0        cowper street   \n",
       "\n",
       "          suburb postcode state  date_of_birth   age phone_number    address_2  \n",
       "0     ellenbrook     2527    wa     19710708.0  32.0  08 86018809     westella  \n",
       "1   east preston     2074   nsw     19120921.0  34.0  02 97793152      foxdown  \n",
       "2       prospect     2305   nsw     19810905.0  22.0  02 20403934         None  \n",
       "3          henty     3620    wa     19840809.0  30.0  02 62832318       jodane  \n",
       "4  campbell town     4051   nsw     19340430.0  31.0  03 69359594         None  \n",
       "5        barmera     3556   qld     19050919.0  32.0  03 59872070         None  \n",
       "6      laurieton     2160   nsw     19061018.0  29.0  02 86925029         None  \n",
       "7    maribyrnong     2170   qld     19610518.0  31.0  03 15575583  dhurringill  \n",
       "8       new farm     2200   qld     19430102.0  33.0  07 37444521         None  \n",
       "9     bonnet bay     2062   qld     19030606.0  35.0  08 24888117         None  "
      ]
     },
     "execution_count": 51,
     "metadata": {},
     "output_type": "execute_result"
    }
   ],
   "source": [
    "# Affichage des données des 10 premiers patients\n",
    "df_patient[:10]"
   ]
  },
  {
   "cell_type": "code",
   "execution_count": 52,
   "metadata": {},
   "outputs": [
    {
     "name": "stdout",
     "output_type": "stream",
     "text": [
      "le nombre de patients est : 19798\n"
     ]
    }
   ],
   "source": [
    "print(\"le nombre de patients est :\", len(df_patient['patient_id'].unique()))"
   ]
  },
  {
   "cell_type": "code",
   "execution_count": 53,
   "metadata": {},
   "outputs": [
    {
     "data": {
      "text/html": [
       "<div>\n",
       "<style scoped>\n",
       "    .dataframe tbody tr th:only-of-type {\n",
       "        vertical-align: middle;\n",
       "    }\n",
       "\n",
       "    .dataframe tbody tr th {\n",
       "        vertical-align: top;\n",
       "    }\n",
       "\n",
       "    .dataframe thead th {\n",
       "        text-align: right;\n",
       "    }\n",
       "</style>\n",
       "<table border=\"1\" class=\"dataframe\">\n",
       "  <thead>\n",
       "    <tr style=\"text-align: right;\">\n",
       "      <th></th>\n",
       "      <th>patient_id</th>\n",
       "      <th>pcr</th>\n",
       "    </tr>\n",
       "  </thead>\n",
       "  <tbody>\n",
       "    <tr>\n",
       "      <th>0</th>\n",
       "      <td>653091</td>\n",
       "      <td>N</td>\n",
       "    </tr>\n",
       "    <tr>\n",
       "      <th>1</th>\n",
       "      <td>347667</td>\n",
       "      <td>Negative</td>\n",
       "    </tr>\n",
       "    <tr>\n",
       "      <th>2</th>\n",
       "      <td>708481</td>\n",
       "      <td>Positive</td>\n",
       "    </tr>\n",
       "    <tr>\n",
       "      <th>3</th>\n",
       "      <td>148825</td>\n",
       "      <td>Negative</td>\n",
       "    </tr>\n",
       "    <tr>\n",
       "      <th>4</th>\n",
       "      <td>150081</td>\n",
       "      <td>Negative</td>\n",
       "    </tr>\n",
       "    <tr>\n",
       "      <th>5</th>\n",
       "      <td>876796</td>\n",
       "      <td>N</td>\n",
       "    </tr>\n",
       "    <tr>\n",
       "      <th>6</th>\n",
       "      <td>169224</td>\n",
       "      <td>Negative</td>\n",
       "    </tr>\n",
       "    <tr>\n",
       "      <th>7</th>\n",
       "      <td>755915</td>\n",
       "      <td>P</td>\n",
       "    </tr>\n",
       "    <tr>\n",
       "      <th>8</th>\n",
       "      <td>374486</td>\n",
       "      <td>N</td>\n",
       "    </tr>\n",
       "    <tr>\n",
       "      <th>9</th>\n",
       "      <td>634003</td>\n",
       "      <td>N</td>\n",
       "    </tr>\n",
       "  </tbody>\n",
       "</table>\n",
       "</div>"
      ],
      "text/plain": [
       "   patient_id       pcr\n",
       "0      653091         N\n",
       "1      347667  Negative\n",
       "2      708481  Positive\n",
       "3      148825  Negative\n",
       "4      150081  Negative\n",
       "5      876796         N\n",
       "6      169224  Negative\n",
       "7      755915         P\n",
       "8      374486         N\n",
       "9      634003         N"
      ]
     },
     "execution_count": 53,
     "metadata": {},
     "output_type": "execute_result"
    }
   ],
   "source": [
    "# Affichage des données des 10 premiers résultats PCR \n",
    "df_pcr[:10]"
   ]
  },
  {
   "cell_type": "code",
   "execution_count": 54,
   "metadata": {},
   "outputs": [
    {
     "name": "stdout",
     "output_type": "stream",
     "text": [
      "le total de PCR est : 8765\n"
     ]
    }
   ],
   "source": [
    "print(\"le total de PCR est :\", len(df_pcr['patient_id'].unique()))"
   ]
  },
  {
   "cell_type": "markdown",
   "metadata": {},
   "source": [
    "# 3. Suppression des données"
   ]
  },
  {
   "cell_type": "code",
   "execution_count": 55,
   "metadata": {},
   "outputs": [],
   "source": [
    "def detect_duplicates(df):\n",
    "    #Suppression des ID dupliqués\n",
    "    df.drop_duplicates([\"patient_id\"],keep=\"first\", inplace=True)\n",
    "    #Remplacement des champs vides par nan\n",
    "    df['given_name'].replace('', np.nan, inplace=True)\n",
    "    df['surname'].replace('', np.nan, inplace=True)\n",
    "    df['street_number'].replace('', np.nan, inplace=True)\n",
    "    df['address_1'].replace('', np.nan, inplace=True)\n",
    "    df['suburb'].replace('', np.nan, inplace=True)\n",
    "    df['postcode'].replace('', np.nan, inplace=True)\n",
    "    df['state'].replace('', np.nan, inplace=True)\n",
    "    df['date_of_birth'].replace('', np.nan, inplace=True)\n",
    "    df['age'].replace('', np.nan, inplace=True)\n",
    "    df['phone_number'].replace('', np.nan, inplace=True)\n",
    "    df['address_2'].replace('', np.nan, inplace=True)\n",
    "    #Suppression des champs vides \n",
    "    df.dropna(subset=['given_name'], inplace=True)\n",
    "    df.dropna(subset=['surname'], inplace=True)\n",
    "    df.dropna(subset=['street_number'], inplace=True)\n",
    "    df.dropna(subset=['address_1'], inplace=True)\n",
    "    df.dropna(subset=['suburb'], inplace=True)\n",
    "    df.dropna(subset=['postcode'], inplace=True)\n",
    "    df.dropna(subset=['state'], inplace=True)\n",
    "    df.dropna(subset=['date_of_birth'], inplace=True)\n",
    "    df.dropna(subset=['age'], inplace=True)\n",
    "    df.dropna(subset=['phone_number'], inplace=True)\n",
    "    df.dropna(subset=['address_2'], inplace=True)\n",
    "    return df\n",
    "\n"
   ]
  },
  {
   "cell_type": "markdown",
   "metadata": {},
   "source": [
    "# 4. Jointure des tables "
   ]
  },
  {
   "cell_type": "code",
   "execution_count": 57,
   "metadata": {},
   "outputs": [],
   "source": [
    "df = pd.merge(df_patient, df_pcr, how=\"inner\", left_on=\"patient_id\", right_on=\"patient_id\")"
   ]
  },
  {
   "cell_type": "code",
   "execution_count": 58,
   "metadata": {},
   "outputs": [
    {
     "data": {
      "text/html": [
       "<div>\n",
       "<style scoped>\n",
       "    .dataframe tbody tr th:only-of-type {\n",
       "        vertical-align: middle;\n",
       "    }\n",
       "\n",
       "    .dataframe tbody tr th {\n",
       "        vertical-align: top;\n",
       "    }\n",
       "\n",
       "    .dataframe thead th {\n",
       "        text-align: right;\n",
       "    }\n",
       "</style>\n",
       "<table border=\"1\" class=\"dataframe\">\n",
       "  <thead>\n",
       "    <tr style=\"text-align: right;\">\n",
       "      <th></th>\n",
       "      <th>patient_id</th>\n",
       "      <th>given_name</th>\n",
       "      <th>surname</th>\n",
       "      <th>street_number</th>\n",
       "      <th>address_1</th>\n",
       "      <th>suburb</th>\n",
       "      <th>postcode</th>\n",
       "      <th>state</th>\n",
       "      <th>date_of_birth</th>\n",
       "      <th>age</th>\n",
       "      <th>phone_number</th>\n",
       "      <th>address_2</th>\n",
       "      <th>pcr</th>\n",
       "    </tr>\n",
       "  </thead>\n",
       "  <tbody>\n",
       "    <tr>\n",
       "      <th>0</th>\n",
       "      <td>771155</td>\n",
       "      <td>joshua</td>\n",
       "      <td>elrick</td>\n",
       "      <td>23.0</td>\n",
       "      <td>andrea place</td>\n",
       "      <td>east preston</td>\n",
       "      <td>2074</td>\n",
       "      <td>nsw</td>\n",
       "      <td>19120921.0</td>\n",
       "      <td>34.0</td>\n",
       "      <td>02 97793152</td>\n",
       "      <td>foxdown</td>\n",
       "      <td>Negative</td>\n",
       "    </tr>\n",
       "    <tr>\n",
       "      <th>1</th>\n",
       "      <td>832180</td>\n",
       "      <td>jack</td>\n",
       "      <td>renfrey</td>\n",
       "      <td>27.0</td>\n",
       "      <td>osmand street</td>\n",
       "      <td>maribyrnong</td>\n",
       "      <td>2170</td>\n",
       "      <td>qld</td>\n",
       "      <td>19610518.0</td>\n",
       "      <td>31.0</td>\n",
       "      <td>03 15575583</td>\n",
       "      <td>dhurringill</td>\n",
       "      <td>P</td>\n",
       "    </tr>\n",
       "    <tr>\n",
       "      <th>2</th>\n",
       "      <td>517113</td>\n",
       "      <td>trey</td>\n",
       "      <td>glass</td>\n",
       "      <td>27.0</td>\n",
       "      <td>mugga way</td>\n",
       "      <td>carnegie</td>\n",
       "      <td>5093</td>\n",
       "      <td>nsw</td>\n",
       "      <td>19180715.0</td>\n",
       "      <td>21.0</td>\n",
       "      <td>08 08091408</td>\n",
       "      <td>blackridge flyfishing school</td>\n",
       "      <td>Negative</td>\n",
       "    </tr>\n",
       "    <tr>\n",
       "      <th>3</th>\n",
       "      <td>996942</td>\n",
       "      <td>zachary</td>\n",
       "      <td>piazza</td>\n",
       "      <td>772.0</td>\n",
       "      <td>beaney street</td>\n",
       "      <td>manunda</td>\n",
       "      <td>2223</td>\n",
       "      <td>wa</td>\n",
       "      <td>19750703.0</td>\n",
       "      <td>25.0</td>\n",
       "      <td>02 36108470</td>\n",
       "      <td>rsd frareen</td>\n",
       "      <td>N</td>\n",
       "    </tr>\n",
       "    <tr>\n",
       "      <th>4</th>\n",
       "      <td>323165</td>\n",
       "      <td>taylor</td>\n",
       "      <td>binns</td>\n",
       "      <td>2.0</td>\n",
       "      <td>dunbar street</td>\n",
       "      <td>mount annan</td>\n",
       "      <td>4455</td>\n",
       "      <td>wa</td>\n",
       "      <td>19000509.0</td>\n",
       "      <td>11.0</td>\n",
       "      <td>08 99185004</td>\n",
       "      <td>sec 528</td>\n",
       "      <td>N</td>\n",
       "    </tr>\n",
       "    <tr>\n",
       "      <th>...</th>\n",
       "      <td>...</td>\n",
       "      <td>...</td>\n",
       "      <td>...</td>\n",
       "      <td>...</td>\n",
       "      <td>...</td>\n",
       "      <td>...</td>\n",
       "      <td>...</td>\n",
       "      <td>...</td>\n",
       "      <td>...</td>\n",
       "      <td>...</td>\n",
       "      <td>...</td>\n",
       "      <td>...</td>\n",
       "      <td>...</td>\n",
       "    </tr>\n",
       "    <tr>\n",
       "      <th>1852</th>\n",
       "      <td>444199</td>\n",
       "      <td>matthew</td>\n",
       "      <td>roebuck</td>\n",
       "      <td>44.0</td>\n",
       "      <td>fuhrman street</td>\n",
       "      <td>tea tree gully</td>\n",
       "      <td>6112</td>\n",
       "      <td>wa</td>\n",
       "      <td>19421123.0</td>\n",
       "      <td>36.0</td>\n",
       "      <td>03 12751519</td>\n",
       "      <td>greenbank</td>\n",
       "      <td>N</td>\n",
       "    </tr>\n",
       "    <tr>\n",
       "      <th>1853</th>\n",
       "      <td>124956</td>\n",
       "      <td>marleigh</td>\n",
       "      <td>seen</td>\n",
       "      <td>11.0</td>\n",
       "      <td>crisp circuit</td>\n",
       "      <td>lavington</td>\n",
       "      <td>2640</td>\n",
       "      <td>wa</td>\n",
       "      <td>19640108.0</td>\n",
       "      <td>27.0</td>\n",
       "      <td>04 65522089</td>\n",
       "      <td>stoneyhurst</td>\n",
       "      <td>N</td>\n",
       "    </tr>\n",
       "    <tr>\n",
       "      <th>1854</th>\n",
       "      <td>513727</td>\n",
       "      <td>kane</td>\n",
       "      <td>costigan</td>\n",
       "      <td>1.0</td>\n",
       "      <td>stonehaven crescent</td>\n",
       "      <td>shenton park</td>\n",
       "      <td>2203</td>\n",
       "      <td>nsw</td>\n",
       "      <td>19100707.0</td>\n",
       "      <td>22.0</td>\n",
       "      <td>04 55808760</td>\n",
       "      <td>townview</td>\n",
       "      <td>Negative</td>\n",
       "    </tr>\n",
       "    <tr>\n",
       "      <th>1855</th>\n",
       "      <td>230775</td>\n",
       "      <td>victoria</td>\n",
       "      <td>whiteley</td>\n",
       "      <td>12.0</td>\n",
       "      <td>beasley street</td>\n",
       "      <td>landsborough</td>\n",
       "      <td>2388</td>\n",
       "      <td>nsw</td>\n",
       "      <td>19491217.0</td>\n",
       "      <td>30.0</td>\n",
       "      <td>03 68108604</td>\n",
       "      <td>ponderosa</td>\n",
       "      <td>P</td>\n",
       "    </tr>\n",
       "    <tr>\n",
       "      <th>1856</th>\n",
       "      <td>407822</td>\n",
       "      <td>sarah</td>\n",
       "      <td>matthews</td>\n",
       "      <td>58.0</td>\n",
       "      <td>zox circuit</td>\n",
       "      <td>seven hills</td>\n",
       "      <td>3174</td>\n",
       "      <td>nsw</td>\n",
       "      <td>19241001.0</td>\n",
       "      <td>25.0</td>\n",
       "      <td>08 77093884</td>\n",
       "      <td>lagoon farm</td>\n",
       "      <td>Negative</td>\n",
       "    </tr>\n",
       "  </tbody>\n",
       "</table>\n",
       "<p>1857 rows × 13 columns</p>\n",
       "</div>"
      ],
      "text/plain": [
       "      patient_id given_name   surname  street_number            address_1  \\\n",
       "0         771155     joshua    elrick           23.0         andrea place   \n",
       "1         832180       jack   renfrey           27.0        osmand street   \n",
       "2         517113       trey     glass           27.0            mugga way   \n",
       "3         996942    zachary    piazza          772.0        beaney street   \n",
       "4         323165     taylor     binns            2.0        dunbar street   \n",
       "...          ...        ...       ...            ...                  ...   \n",
       "1852      444199    matthew   roebuck           44.0       fuhrman street   \n",
       "1853      124956   marleigh      seen           11.0        crisp circuit   \n",
       "1854      513727       kane  costigan            1.0  stonehaven crescent   \n",
       "1855      230775   victoria  whiteley           12.0       beasley street   \n",
       "1856      407822      sarah  matthews           58.0          zox circuit   \n",
       "\n",
       "              suburb postcode state  date_of_birth   age phone_number  \\\n",
       "0       east preston     2074   nsw     19120921.0  34.0  02 97793152   \n",
       "1        maribyrnong     2170   qld     19610518.0  31.0  03 15575583   \n",
       "2           carnegie     5093   nsw     19180715.0  21.0  08 08091408   \n",
       "3            manunda     2223    wa     19750703.0  25.0  02 36108470   \n",
       "4        mount annan     4455    wa     19000509.0  11.0  08 99185004   \n",
       "...              ...      ...   ...            ...   ...          ...   \n",
       "1852  tea tree gully     6112    wa     19421123.0  36.0  03 12751519   \n",
       "1853       lavington     2640    wa     19640108.0  27.0  04 65522089   \n",
       "1854    shenton park     2203   nsw     19100707.0  22.0  04 55808760   \n",
       "1855    landsborough     2388   nsw     19491217.0  30.0  03 68108604   \n",
       "1856     seven hills     3174   nsw     19241001.0  25.0  08 77093884   \n",
       "\n",
       "                         address_2       pcr  \n",
       "0                          foxdown  Negative  \n",
       "1                      dhurringill         P  \n",
       "2     blackridge flyfishing school  Negative  \n",
       "3                      rsd frareen         N  \n",
       "4                          sec 528         N  \n",
       "...                            ...       ...  \n",
       "1852                     greenbank         N  \n",
       "1853                   stoneyhurst         N  \n",
       "1854                      townview  Negative  \n",
       "1855                     ponderosa         P  \n",
       "1856                   lagoon farm  Negative  \n",
       "\n",
       "[1857 rows x 13 columns]"
      ]
     },
     "execution_count": 58,
     "metadata": {},
     "output_type": "execute_result"
    }
   ],
   "source": [
    "# Affichage de df\n",
    "df"
   ]
  },
  {
   "cell_type": "markdown",
   "metadata": {},
   "source": [
    "# 5. Représentation graphique des résultats"
   ]
  },
  {
   "cell_type": "code",
   "execution_count": 59,
   "metadata": {},
   "outputs": [],
   "source": [
    "#Remplacement des résultats P par Positive\n",
    "df['pcr'].replace(to_replace='P',\n",
    "    value='Positive',\n",
    "    inplace=True)\n",
    "#Remplacement des résultats N par Negative\n",
    "df['pcr'].replace(to_replace='N',\n",
    "    value='Negative',\n",
    "    inplace=True)"
   ]
  },
  {
   "cell_type": "code",
   "execution_count": 60,
   "metadata": {},
   "outputs": [
    {
     "data": {
      "image/png": "[encoded data removed]",
      "text/plain": [
       "<Figure size 432x288 with 1 Axes>"
      ]
     },
     "metadata": {},
     "output_type": "display_data"
    }
   ],
   "source": [
    "#Représentation graphique des pourcentages des PCR positifs et négarifs\n",
    "a = (df['pcr'] == 'Positive').sum()\n",
    "b = (df['pcr'] == 'Negative').sum()\n",
    "name = ['Positive', 'Negative']\n",
    "data = [a,b]\n",
    "\n",
    "explode=(0, 0.15)\n",
    "plt.pie(data, explode=explode, labels=name, autopct='%1.1f%%', startangle=90, shadow=True)\n",
    "plt.axis('equal')\n",
    "plt.title('PCR')\n",
    "plt.show()"
   ]
  },
  {
   "cell_type": "code",
   "execution_count": 61,
   "metadata": {},
   "outputs": [],
   "source": [
    "#Sélection des résultats des personnes agées de plus de 60 ans\n",
    "df1 = df.loc[(df['date_of_birth'] / 10000 < 1950)]"
   ]
  },
  {
   "cell_type": "code",
   "execution_count": 62,
   "metadata": {},
   "outputs": [
    {
     "data": {
      "image/png": "[encoded data removed]",
      "text/plain": [
       "<Figure size 432x288 with 1 Axes>"
      ]
     },
     "metadata": {},
     "output_type": "display_data"
    }
   ],
   "source": [
    "#Représentation graphique des pourcentages des PCR pour les personnes agées de plus de 60 ans\n",
    "a = (df1['pcr'] == 'Positive').sum()\n",
    "b = (df1['pcr'] == 'Negative').sum()\n",
    "name = ['Positive', 'Negative']\n",
    "data = [a,b]\n",
    "\n",
    "explode=(0, 0.15)\n",
    "plt.pie(data, explode=explode, labels=name, autopct='%1.1f%%', startangle=90, shadow=True)\n",
    "plt.axis('equal')\n",
    "plt.title('PCR > 60 ans')\n",
    "plt.show()"
   ]
  },
  {
   "cell_type": "code",
   "execution_count": 63,
   "metadata": {},
   "outputs": [],
   "source": [
    "#Sélection des résultats des personnes agées de moins de 60 ans\n",
    "df2 = df.loc[(df['date_of_birth'] / 10000 >= 1950)]"
   ]
  },
  {
   "cell_type": "code",
   "execution_count": 64,
   "metadata": {},
   "outputs": [
    {
     "data": {
      "image/png": "[encoded data removed]",
      "text/plain": [
       "<Figure size 432x288 with 1 Axes>"
      ]
     },
     "metadata": {},
     "output_type": "display_data"
    }
   ],
   "source": [
    "#Représentation graphique des pourcentages des PCR pour les personnes agées de moins de 60 ans\n",
    "a = (df2['pcr'] == 'Positive').sum()\n",
    "b = (df2['pcr'] == 'Negative').sum()\n",
    "name = ['Positive', 'Negative']\n",
    "data = [a,b]\n",
    "\n",
    "explode=(0, 0.15)\n",
    "plt.pie(data, explode=explode, labels=name, autopct='%1.1f%%', startangle=90, shadow=True)\n",
    "plt.title('PCR <60 ans')\n",
    "plt.axis('equal')\n",
    "plt.show()"
   ]
  },
  {
   "cell_type": "code",
   "execution_count": 65,
   "metadata": {},
   "outputs": [],
   "source": [
    "#Sélection des résultats de PCR Positifs\n",
    "df3 = df.loc[(df['pcr'] == 'Positive')]"
   ]
  },
  {
   "cell_type": "code",
   "execution_count": 66,
   "metadata": {},
   "outputs": [
    {
     "data": {
      "image/png": "[encoded data removed]",
      "text/plain": [
       "<Figure size 720x360 with 1 Axes>"
      ]
     },
     "metadata": {
      "needs_background": "light"
     },
     "output_type": "display_data"
    }
   ],
   "source": [
    "#Représentation graphique des résultats des PCR par localisation géographique\n",
    "fig = plt.figure(1, figsize=(10, 5))\n",
    "df3['state'].value_counts().plot(kind='bar',x='state',y='Positive')\n",
    "plt.title('PCR Positive')\n",
    "plt.show()"
   ]
  },
  {
   "cell_type": "code",
   "execution_count": 67,
   "metadata": {},
   "outputs": [],
   "source": [
    "#Sélection des résultats de PCR Négatifs\n",
    "df4 = df.loc[(df['pcr'] == 'Negative')]"
   ]
  },
  {
   "cell_type": "code",
   "execution_count": 68,
   "metadata": {},
   "outputs": [
    {
     "data": {
      "image/png": "[encoded data removed]",
      "text/plain": [
       "<Figure size 720x360 with 1 Axes>"
      ]
     },
     "metadata": {
      "needs_background": "light"
     },
     "output_type": "display_data"
    }
   ],
   "source": [
    "#Représentation graphique des résultats des PCR Négatifs par localisation géographique\n",
    "fig = plt.figure(1, figsize=(10, 5))\n",
    "df4['state'].value_counts().plot(kind='bar',x='state',y='Positive')\n",
    "plt.title('PCR Negative')\n",
    "plt.show()"
   ]
  },
  {
   "cell_type": "code",
   "execution_count": null,
   "metadata": {},
   "outputs": [],
   "source": []
  }
 ],
 "metadata": {
  "kernelspec": {
   "display_name": "Python 3",
   "language": "python",
   "name": "python3"
  },
  "language_info": {
   "codemirror_mode": {
    "name": "ipython",
    "version": 3
   },
   "file_extension": ".py",
   "mimetype": "text/x-python",
   "name": "python",
   "nbconvert_exporter": "python",
   "pygments_lexer": "ipython3",
   "version": "3.8.3"
  }
 },
 "nbformat": 4,
 "nbformat_minor": 4
}
